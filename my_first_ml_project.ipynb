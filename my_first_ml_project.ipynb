{
  "nbformat": 4,
  "nbformat_minor": 0,
  "metadata": {
    "colab": {
      "provenance": [],
      "authorship_tag": "ABX9TyPPrFm+wCA98St3HOirrEu1",
      "include_colab_link": true
    },
    "kernelspec": {
      "name": "python3",
      "display_name": "Python 3"
    },
    "language_info": {
      "name": "python"
    }
  },
  "cells": [
    {
      "cell_type": "markdown",
      "metadata": {
        "id": "view-in-github",
        "colab_type": "text"
      },
      "source": [
        "<a href=\"https://colab.research.google.com/github/syedaafshan/syedaafshan/blob/main/my_first_ml_project.ipynb\" target=\"_parent\"><img src=\"https://colab.research.google.com/assets/colab-badge.svg\" alt=\"Open In Colab\"/></a>"
      ]
    },
    {
      "cell_type": "code",
      "source": [],
      "metadata": {
        "id": "n6XFKgcs5kKD"
      },
      "execution_count": null,
      "outputs": []
    },
    {
      "cell_type": "code",
      "execution_count": 18,
      "metadata": {
        "colab": {
          "base_uri": "https://localhost:8080/"
        },
        "id": "qIGu9t-W35TH",
        "outputId": "86727ff5-f291-4a42-8480-aa0855cdfc9a"
      },
      "outputs": [
        {
          "output_type": "stream",
          "name": "stdout",
          "text": [
            "Enter your salary: 1000000\n",
            "**Simple Portfolio Design for Profit**\n",
            "-----------------------------------\n",
            "1. Invest in low-cost index funds (e.g., S&P 500, Total Stock Market).\n",
            "2. Diversify your portfolio by investing in different asset classes (e.g., stocks, bonds, real estate).\n",
            "3. Rebalance your portfolio regularly to maintain your desired risk level.\n",
            "4. Stay invested for the long term to maximize your returns.\n",
            "-----------------------------------\n",
            "\n",
            "**Tips for Earning More Money**\n",
            "-----------------------------------\n",
            "1. Get a side hustle or start a small business.\n",
            "2. Invest in your education and skills to increase your earning potential.\n",
            "3. Negotiate your salary and benefits with your employer.\n",
            "4. Look for ways to save money on your expenses.\n",
            "-----------------------------------\n",
            "\n",
            "**Current Trends**\n",
            "-----------------------------------\n",
            "1. The rise of artificial intelligence and automation.\n",
            "2. The growth of the gig economy.\n",
            "3. The increasing importance of sustainability.\n",
            "4. The shift towards remote work.\n",
            "-----------------------------------\n",
            "\n",
            "**Rich Quotation**\n",
            "-----------------------------------\n",
            "\"Money is a tool. Use it wisely to build a life you love.\"\n",
            "-----------------------------------\n"
          ]
        }
      ],
      "source": [
        "# prompt: make a simple portfolio design for a profit with input as salary also tell the user about how he can earn more money and also make aware of current trends , give some rich quotation\n",
        "\n",
        "# Get user input for salary\n",
        "salary = float(input(\"Enter your salary: \"))\n",
        "\n",
        "# Calculate monthly expenses\n",
        "monthly_expenses = salary * 0.5  # Assuming expenses are 50% of salary\n",
        "\n",
        "# Calculate amount available for investment\n",
        "amount_available = salary - monthly_expenses\n",
        "\n",
        "# Print portfolio design\n",
        "print(\"**Simple Portfolio Design for Profit**\")\n",
        "print(\"-----------------------------------\")\n",
        "print(\"1. Invest in low-cost index funds (e.g., S&P 500, Total Stock Market).\")\n",
        "print(\"2. Diversify your portfolio by investing in different asset classes (e.g., stocks, bonds, real estate).\")\n",
        "print(\"3. Rebalance your portfolio regularly to maintain your desired risk level.\")\n",
        "print(\"4. Stay invested for the long term to maximize your returns.\")\n",
        "print(\"-----------------------------------\")\n",
        "\n",
        "# Print tips for earning more money\n",
        "print(\"\\n**Tips for Earning More Money**\")\n",
        "print(\"-----------------------------------\")\n",
        "print(\"1. Get a side hustle or start a small business.\")\n",
        "print(\"2. Invest in your education and skills to increase your earning potential.\")\n",
        "print(\"3. Negotiate your salary and benefits with your employer.\")\n",
        "print(\"4. Look for ways to save money on your expenses.\")\n",
        "print(\"-----------------------------------\")\n",
        "\n",
        "# Print current trends\n",
        "print(\"\\n**Current Trends**\")\n",
        "print(\"-----------------------------------\")\n",
        "print(\"1. The rise of artificial intelligence and automation.\")\n",
        "print(\"2. The growth of the gig economy.\")\n",
        "print(\"3. The increasing importance of sustainability.\")\n",
        "print(\"4. The shift towards remote work.\")\n",
        "print(\"-----------------------------------\")\n",
        "\n",
        "# Print a rich quotation\n",
        "print(\"\\n**Rich Quotation**\")\n",
        "print(\"-----------------------------------\")\n",
        "print(\"\\\"Money is a tool. Use it wisely to build a life you love.\\\"\")\n",
        "print(\"-----------------------------------\")\n"
      ]
    }
  ]
}